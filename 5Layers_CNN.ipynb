{
 "metadata": {
  "language_info": {
   "codemirror_mode": {
    "name": "ipython",
    "version": 3
   },
   "file_extension": ".py",
   "mimetype": "text/x-python",
   "name": "python",
   "nbconvert_exporter": "python",
   "pygments_lexer": "ipython3",
   "version": "3.8.6-final"
  },
  "orig_nbformat": 2,
  "kernelspec": {
   "name": "python386jvsc74a57bd031f2aee4e71d21fbe5cf8b01ff0e069b9275f58929596ceb00d14d90e3e16cd6",
   "display_name": "Python 3.8.6 64-bit"
  },
  "metadata": {
   "interpreter": {
    "hash": "31f2aee4e71d21fbe5cf8b01ff0e069b9275f58929596ceb00d14d90e3e16cd6"
   }
  }
 },
 "nbformat": 4,
 "nbformat_minor": 2,
 "cells": [
  {
   "source": [
    "# Define constants"
   ],
   "cell_type": "markdown",
   "metadata": {}
  },
  {
   "cell_type": "code",
   "execution_count": null,
   "metadata": {
    "tags": []
   },
   "outputs": [],
   "source": [
    "from tensorflow.keras.preprocessing.image import ImageDataGenerator\n",
    "import os\n",
    "import numpy as np\n",
    "import cv2\n",
    "import matplotlib.pyplot as plt\n",
    "# %matplotlib inline\n",
    "\n",
    "input_path = './chest_Xray/'\n",
    "\n",
    "img_dims = 150\n",
    "epochs = 40\n",
    "batch_size = 96\n",
    "\n",
    "def process_data(img_dims, batch_size):\n",
    "    train_datagen = ImageDataGenerator(\n",
    "        rescale=1./255, zoom_range=0.3, vertical_flip=True)\n",
    "    test_datagen = ImageDataGenerator(rescale=1./255)\n",
    "    val_datagen = ImageDataGenerator(rescale=1./255)\n",
    "\n",
    "    # This is fed to the network in the specified batch sizes and image dimensions\n",
    "    # Allows for faster and lighter imports\n",
    "    train_gen = train_datagen.flow_from_directory(\n",
    "        directory=input_path+'train',\n",
    "        target_size=(img_dims, img_dims),\n",
    "        batch_size=batch_size,\n",
    "        class_mode='binary',\n",
    "        shuffle=True)\n",
    "\n",
    "    # Using test data for validation as it's bigger\n",
    "    test_gen = test_datagen.flow_from_directory(\n",
    "        directory=input_path+'test',\n",
    "        target_size=(img_dims, img_dims),\n",
    "        batch_size=batch_size,\n",
    "        class_mode='binary',\n",
    "        shuffle=True)\n",
    "\n",
    "    test_data = []\n",
    "    test_labels = []\n",
    "\n",
    "    for cond in ['/NORMAL/', '/PNEUMONIA/']:\n",
    "        for img in (os.listdir(input_path + 'test' + cond)):\n",
    "            img = plt.imread(input_path + 'test' + cond + img)\n",
    "            img = cv2.resize(img, (img_dims, img_dims))\n",
    "            img = np.dstack([img, img, img])\n",
    "            img = img.astype('float32') / 255\n",
    "            if cond == '/NORMAL/':\n",
    "                label = 0\n",
    "            elif cond == '/PNEUMONIA/':\n",
    "                label = 1\n",
    "            test_data.append(img)\n",
    "            test_labels.append(label)\n",
    "\n",
    "    test_data = np.array(test_data)\n",
    "    test_labels = np.array(test_labels)\n",
    "\n",
    "    return train_gen, test_gen, test_data, test_labels"
   ]
  },
  {
   "source": [
    "# Import and process data"
   ],
   "cell_type": "markdown",
   "metadata": {}
  },
  {
   "cell_type": "code",
   "execution_count": null,
   "metadata": {},
   "outputs": [],
   "source": [
    "for _set in ['train', 'val', 'test']:\n",
    "    n_normal = len(os.listdir(input_path + _set + '/NORMAL'))\n",
    "    n_infect = len(os.listdir(input_path + _set + '/PNEUMONIA'))\n",
    "    print('Set: {}, normal images: {}, pneumonia images: {}'.format(\n",
    "        _set, n_normal, n_infect))\n",
    "\n",
    "train_gen, test_gen, test_data, test_labels = process_data(\n",
    "    img_dims, batch_size)"
   ]
  },
  {
   "source": [
    "# Setup CNN"
   ],
   "cell_type": "markdown",
   "metadata": {}
  },
  {
   "source": [
    "### Using 5 convolution Layers and 3 fully connected Layers"
   ],
   "cell_type": "markdown",
   "metadata": {}
  },
  {
   "cell_type": "code",
   "execution_count": null,
   "metadata": {},
   "outputs": [],
   "source": [
    "\n",
    "from tensorflow.keras.layers import Conv2D, SeparableConv2D, MaxPool2D, LeakyReLU, Activation\n",
    "from tensorflow.keras.layers import Dense, Flatten, Dropout, BatchNormalization\n",
    "from tensorflow.keras.models import Model, Sequential\n",
    "\n",
    "model = Sequential()\n",
    "\n",
    "# First Layer\n",
    "model.add(Conv2D(16, (3, 3), activation='relu', padding='same'))\n",
    "model.add(Conv2D(16, (3, 3), activation='relu', padding='same'))\n",
    "model.add(MaxPool2D())\n",
    "\n",
    "# Second Layer\n",
    "model.add(SeparableConv2D(32, (3, 3), activation='relu', padding='same')) # Instead of 1 2D conv we do the equivalent of 2 1D conv\n",
    "model.add(SeparableConv2D(32, (3, 3), activation='relu', padding='same'))\n",
    "model.add(BatchNormalization()) # Normalize layers inputs to avoid internal covariate shift\n",
    "model.add(MaxPool2D())\n",
    "\n",
    "# Third Layer\n",
    "model.add(SeparableConv2D(64, (3, 3), activation='relu', padding='same'))\n",
    "model.add(SeparableConv2D(64, (3, 3), activation='relu', padding='same'))\n",
    "model.add(BatchNormalization())\n",
    "model.add(MaxPool2D())\n",
    "\n",
    "# Fourth Layer\n",
    "model.add(SeparableConv2D(128, (3, 3), activation='relu', padding='same'))\n",
    "model.add(SeparableConv2D(128, (3, 3), activation='relu', padding='same'))\n",
    "model.add(BatchNormalization())\n",
    "model.add(MaxPool2D())\n",
    "model.add(Dropout(0.2))\n",
    "\n",
    "# Fifth Layer\n",
    "model.add(SeparableConv2D(256, (3, 3), activation='relu', padding='same'))\n",
    "model.add(SeparableConv2D(256, (3, 3), activation='relu', padding='same'))\n",
    "model.add(BatchNormalization())\n",
    "model.add(MaxPool2D())\n",
    "model.add(Dropout(0.2))\n",
    "\n",
    "# Fully Connected Layer\n",
    "model.add(Flatten())\n",
    "model.add(Dense(512, activation='relu'))\n",
    "model.add(Dropout(0.7))\n",
    "model.add(Dense(128, activation='relu'))\n",
    "model.add(Dropout(0.5))\n",
    "model.add(Dense(64, activation='relu'))\n",
    "model.add(Dropout(0.3))\n",
    "\n",
    "# Output Layer\n",
    "model.add(Dense(1, activation='sigmoid'))\n",
    "\n",
    "model.compile(optimizer='adam', loss='binary_crossentropy',\n",
    "              metrics=['accuracy'])"
   ]
  },
  {
   "source": [
    "# Define Callbacks"
   ],
   "cell_type": "markdown",
   "metadata": {}
  },
  {
   "cell_type": "code",
   "execution_count": null,
   "metadata": {},
   "outputs": [],
   "source": [
    "from Class.callback import EarlyStoppingAtMinLoss\n",
    "from tensorflow.keras.callbacks import ModelCheckpoint, ReduceLROnPlateau, EarlyStopping\n",
    "\n",
    "checkpoint = ModelCheckpoint(\n",
    "    filepath='best_weights.hdf5', save_best_only=True, save_weights_only=True)\n",
    "lr_reduce = ReduceLROnPlateau(\n",
    "    monitor='val_loss', factor=0.3, patience=2, verbose=2, mode='max')\n",
    "early_stop = EarlyStopping(\n",
    "    monitor='val_loss', min_delta=0.1, patience=4, mode='min')\n",
    "# early_stop = EarlyStoppingAtMinLoss(4)"
   ]
  },
  {
   "source": [
    "# Train CNN"
   ],
   "cell_type": "markdown",
   "metadata": {}
  },
  {
   "source": [
    "### Use train and validate datasets"
   ],
   "cell_type": "markdown",
   "metadata": {}
  },
  {
   "cell_type": "code",
   "execution_count": null,
   "metadata": {
    "tags": [
     "outputPrepend"
    ]
   },
   "outputs": [],
   "source": [
    "hist = model.fit(\n",
    "    train_gen, steps_per_epoch=train_gen.samples // batch_size,\n",
    "    epochs=epochs, validation_data=test_gen,\n",
    "    validation_steps=test_gen.samples // batch_size, callbacks=[checkpoint, lr_reduce])"
   ]
  },
  {
   "source": [
    "# Testing Metrics"
   ],
   "cell_type": "markdown",
   "metadata": {}
  },
  {
   "source": [
    "### Accuracy and Loss graphs"
   ],
   "cell_type": "markdown",
   "metadata": {}
  },
  {
   "cell_type": "code",
   "execution_count": null,
   "metadata": {},
   "outputs": [],
   "source": [
    "%matplotlib inline\n",
    "fig, ax = plt.subplots(1, 2, figsize=(10, 3))\n",
    "ax = ax.ravel()\n",
    "\n",
    "for i, met in enumerate(['accuracy', 'loss']):\n",
    "    ax[i].plot(hist.history[met])\n",
    "    ax[i].plot(hist.history['val_' + met])\n",
    "    ax[i].set_title('Model {}'.format(met))\n",
    "    ax[i].set_xlabel('epochs')\n",
    "    ax[i].set_ylabel(met)\n",
    "    ax[i].legend(['train', 'val'])"
   ]
  },
  {
   "source": [
    "### Model metrics - Accuracy, F1, Confusion Matrix"
   ],
   "cell_type": "markdown",
   "metadata": {}
  },
  {
   "cell_type": "code",
   "execution_count": null,
   "metadata": {},
   "outputs": [],
   "source": [
    "import seaborn as sns\n",
    "from sklearn.metrics import accuracy_score, confusion_matrix\n",
    "\n",
    "preds = model.predict(test_data)\n",
    "\n",
    "acc = accuracy_score(test_labels, np.round(preds))*100\n",
    "cm = confusion_matrix(test_labels, np.round(preds))\n",
    "tn, fp, fn, tp = cm.ravel()\n",
    "\n",
    "print('TEST METRICS ----------------------')\n",
    "precision = tp/(tp+fp)*100\n",
    "recall = tp/(tp+fn)*100\n",
    "f = 2 * precision * recall/(precision + recall)\n",
    "print('Accuracy: {}%'.format(acc))\n",
    "print('Precision: {}%'.format(precision))\n",
    "print('Recall: {}%'.format(recall))\n",
    "print('F1-score: {}'.format(f))\n",
    "\n",
    "print('\\nTRAIN METRIC ----------------------')\n",
    "print('Train acc: {}'.format(np.round((hist.history['accuracy'][-1])*100, 2)))\n",
    "\n",
    "print('\\nCONFUSION MATRIX ------------------')\n",
    "print(cm)\n",
    "group_names = ['True Neg','False Pos','False Neg','True Pos']\n",
    "group_percentages = [\"{0:.2%}\".format(value) for value in cm.flatten()/np.sum(cm)]\n",
    "labels = [f\"{v1}\\n{v3}\" for v1, v3 in zip(group_names,group_percentages)]\n",
    "labels = np.asarray(labels).reshape(2,2)\n",
    "sns.heatmap(cm, annot=labels, fmt='', cmap='Blues')"
   ]
  },
  {
   "source": [
    "# Save model"
   ],
   "cell_type": "markdown",
   "metadata": {}
  },
  {
   "cell_type": "code",
   "execution_count": null,
   "metadata": {},
   "outputs": [],
   "source": [
    "model.save('./saved_models_v2/' + str(epochs) + '_adam_b' + str(batch_size) + '_a' + str(int(acc)) + '_f' + str(int(f)))"
   ]
  }
 ]
}